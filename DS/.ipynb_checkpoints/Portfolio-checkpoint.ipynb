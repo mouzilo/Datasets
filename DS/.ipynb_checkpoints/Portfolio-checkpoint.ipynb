{
 "cells": [
  {
   "cell_type": "markdown",
   "metadata": {},
   "source": [
    "### Что я делаю:\n",
    "1. Загружаю файл hr.csv.\n",
    "\n",
    "2. Рассчитываю основные статистики для переменных (среднее,медиана,мода,мин/макс,сред.отклонение).\n",
    "\n",
    "3. Рассчитываю и визуализирую корреляционную матрицу для переменных.\n",
    "\n",
    "4. Визуализирую несколько взаимосвязей между переменными.\n",
    "\n",
    "5. С использованием t-test статистики проверяю взаимосвязи между несколькими переменными.\n",
    "\n",
    "6. Рассчитываю, сколько работников работает в каждом департаменте.\n",
    "\n",
    "7. Показываю распределение сотрудников по зарплатам.\n",
    "\n",
    "8. Показываю распределение сотрудников по зарплатам совместно с департаментами.\n",
    "\n",
    "9. Сколько сотрудников покинули компанию.\n",
    "\n",
    "10. Проверяю несколько гипотез для данных, чтобы понять почему сотрудники покидают компанию.\n",
    "\n",
    "11. Делаю выводы. "
   ]
  },
  {
   "cell_type": "code",
   "execution_count": null,
   "metadata": {},
   "outputs": [],
   "source": [
    "import numpy as np\n",
    "from scipy.stats import t\n",
    "from scipy.stats import norm\n",
    "import matplotlib.pyplot as plt\n",
    "from scipy import stats\n",
    "import pandas as pd\n",
    "import io\n",
    "import requests\n",
    "import seaborn as sns\n",
    "import statistics\n",
    "from PIL import Image"
   ]
  },
  {
   "cell_type": "code",
   "execution_count": null,
   "metadata": {},
   "outputs": [],
   "source": [
    "img = Image.open(\"index.png\")\n",
    "img"
   ]
  },
  {
   "cell_type": "code",
   "execution_count": null,
   "metadata": {},
   "outputs": [],
   "source": [
    "# 1. Загружаю файл HR.csv\n",
    "df = pd.read_csv('HR.csv')\n",
    "df.head()"
   ]
  },
  {
   "cell_type": "code",
   "execution_count": null,
   "metadata": {},
   "outputs": [],
   "source": [
    "#2. Рассчитываю основные статистики для переменных (среднее,медиана,мода,мин/макс,сред.отклонение)\n",
    "df.describe()"
   ]
  },
  {
   "cell_type": "code",
   "execution_count": null,
   "metadata": {},
   "outputs": [],
   "source": [
    "df.mode(numeric_only=True)\n",
    "# df.mode()"
   ]
  },
  {
   "cell_type": "code",
   "execution_count": null,
   "metadata": {},
   "outputs": [],
   "source": [
    "#3. Рассчитываю и визуализирую корреляционную матрицу для переменных.\n",
    "corr_matrix = df.corr()\n",
    "sns.set(rc=({'figure.figsize':(10, 10)}))\n",
    "sns.heatmap(corr_matrix, annot=True, xticklabels=corr_matrix.columns.values, yticklabels=corr_matrix.columns.values)"
   ]
  },
  {
   "cell_type": "markdown",
   "metadata": {},
   "source": [
    "По корреляционной матрице можно понять зависимость данных друг от друга. На данном примере матрица 4х4, начиная от last_evaluation и до time_spend_company явно \"теплее\" остальных пересечений. Однако, также можно заметить слабую корреляцию time_spend_company - left, last_evaluation - satisfaction_level."
   ]
  },
  {
   "cell_type": "code",
   "execution_count": null,
   "metadata": {},
   "outputs": [],
   "source": [
    "#4 Визуализирую несколько взаимосвязей между переменными.\n",
    "sns.pairplot(df, vars=['last_evaluation', 'number_project', 'average_montly_hours', 'time_spend_company'], kind=\"scatter\")"
   ]
  },
  {
   "cell_type": "markdown",
   "metadata": {},
   "source": [
    "Изучим детальнее ту самую матрицу 4х4 'time_spend_company - average_montly_hours - number_project - last_evalueation'. \n",
    "\n",
    "В принципе, здесь прослеживается некая ковариативность на пересечении 'last_evaluation - average_montly_hours'.\n",
    "\n",
    "Остальные пересечения выглядят равномерными: чем больше стаж, тем больше проектов. А вот в случае с оценками (last_evaluation), то видно, что они не зависят от стажа и распределены равномерно. "
   ]
  },
  {
   "cell_type": "code",
   "execution_count": null,
   "metadata": {},
   "outputs": [],
   "source": [
    "# 5. С использованием t-test статистики проверяю взаимосвязи между несколькими переменными.\n",
    "#Гипотеза: среднее значение уровня удовлетворённости (satisfaction_level) сотрудников с разными зарплатами\n",
    "#не отличается от среднего значения генеральной совокупности\n",
    "df.satisfaction_level.mean()"
   ]
  },
  {
   "cell_type": "code",
   "execution_count": null,
   "metadata": {},
   "outputs": [],
   "source": [
    "#заменяю параметрические low, medium и high на числовые 0, 1, 2\n",
    "df.salary.replace(to_replace=dict(low=0, medium=1, high=2), inplace=True)"
   ]
  },
  {
   "cell_type": "code",
   "execution_count": null,
   "metadata": {},
   "outputs": [],
   "source": [
    "# Применяю одновыборочный t-критерий (потому что переменных 3, а значит, двухвыборочный не подходит)\n",
    "\n",
    "low_salary = df[df['salary']==0]['satisfaction_level']\n",
    "middle_salary = df[df['salary']==1]['satisfaction_level']\n",
    "high_salary = df[df['salary']==2]['satisfaction_level']\n",
    "print(stats.ttest_1samp(low_salary, df.satisfaction_level.mean()))\n",
    "print(stats.ttest_1samp(middle_salary, df.satisfaction_level.mean()))\n",
    "print(stats.ttest_1samp(high_salary, df.satisfaction_level.mean()))\n",
    "# print(df.salary.value_counts())"
   ]
  },
  {
   "cell_type": "code",
   "execution_count": null,
   "metadata": {},
   "outputs": [],
   "source": [
    "# Или использую тест ANOVA\n",
    "restecg_0 = df[df['salary']==0]['satisfaction_level']\n",
    "\n",
    "restecg_1 = df[df['salary']==1]['satisfaction_level']\n",
    "\n",
    "restecg_2 = df[df['salary']==2]['satisfaction_level']\n",
    "\n",
    "stats.f_oneway(restecg_0, restecg_1, restecg_2)"
   ]
  },
  {
   "cell_type": "code",
   "execution_count": null,
   "metadata": {},
   "outputs": [],
   "source": [
    "sns.distplot(low_salary, 50)\n",
    "sns.distplot(middle_salary, 50)\n",
    "sns.distplot(high_salary, 50)\n",
    "plt.title('Плотность вероятности распределения удовлетворённости')\n",
    "plt.legend(['Низкая зарплата', 'Средняя зарплата', 'Высокая зарплата'])\n",
    "plt.show()"
   ]
  },
  {
   "cell_type": "markdown",
   "metadata": {},
   "source": [
    "Я решил изучить, насколько уровень заработной платы 'salary' влияет на удовлетворенность работой 'satisfaction_leve'. \n",
    "\n",
    "Как посчитано выше, средний показатель удовлетворенности = 0,613. Поскольку параметрические критерии необходимо заменить на числовые (ранговые), мы это делаем, присвоив низкой зарплате 0, средней - 1, высокой, соответственно, 2. Итого получилось 3 критерия. \n",
    "\n",
    "Поскольку критерия 3, я сперва применяю одновыборочный t-критерий для каждого из ранга заработной платы. Получившийся уровень p-value меньше 0,05, а значит, мы отвергаем нулевую гипотезу о том, что эти две выборки полностью независимы. Некая слабая зависимость имеется. \n",
    "\n",
    "Для сравнения выборок с количеством критерив больше 3, есть тест ANOVA. Его и применяем. p-value также оказался меньше критического значения 0,05, а значит, здесь мы также отвергаем нулевую гипотезу о независимости выборок. \n"
   ]
  },
  {
   "cell_type": "code",
   "execution_count": null,
   "metadata": {},
   "outputs": [],
   "source": [
    "#6. Рассчитываю, сколько работников работает в каждом департаменте.\n",
    "df.sales.value_counts() "
   ]
  },
  {
   "cell_type": "markdown",
   "metadata": {},
   "source": [
    "В продажах, как и положено, работает больше всего сотрудников, а в руководстве, соответственно, меньше всего. "
   ]
  },
  {
   "cell_type": "code",
   "execution_count": null,
   "metadata": {},
   "outputs": [],
   "source": [
    "#7. Отображаю распределение сотрудников по зарплатам\n",
    "n, bins, patches = plt.hist(df['salary'], 5, facecolor='g')\n",
    "\n",
    "plt.xlabel('Зарплата')\n",
    "plt.ylabel('Частота')\n",
    "plt.title('Частотный график зарплаты (разбиение интервала по 5 элементов)')\n",
    "plt.grid(True)\n",
    "plt.show()"
   ]
  },
  {
   "cell_type": "markdown",
   "metadata": {},
   "source": [
    "В глаза сразу бросается слишком большой разрыв между средней зарплатой и высокой и настолько же маленький разрыв между маленькой и средней зарплатой. В компании, определённо, огромное количество менеджеров среднего звена со средним же уровнем заработка!"
   ]
  },
  {
   "cell_type": "code",
   "execution_count": null,
   "metadata": {},
   "outputs": [],
   "source": [
    "# 8. Показываю распределение сотрудников по зарплатам совместно с департаментами.\n",
    "sns.relplot(x='sales', \n",
    "            y='salary', \n",
    "            kind='line', \n",
    "            data=df,\n",
    "            height = 12)"
   ]
  },
  {
   "cell_type": "markdown",
   "metadata": {},
   "source": [
    "Подтверждается выдвинутая ранее гипотеза: фонд оплаты менеджмента сильно больше среднего уровня по сотрудникам. Однако, заработная плата маркетинга, на удивление, выше IT. "
   ]
  },
  {
   "cell_type": "code",
   "execution_count": null,
   "metadata": {},
   "outputs": [],
   "source": [
    "# 9. Сколько сотрудников покинули компанию.\n",
    "df.left.value_counts() "
   ]
  },
  {
   "cell_type": "code",
   "execution_count": null,
   "metadata": {},
   "outputs": [],
   "source": [
    "# 10. Проверяю несколько гипотез для данных, чтобы понять почему сотрудники покидают компанию.\n",
    "df.head()"
   ]
  },
  {
   "cell_type": "code",
   "execution_count": null,
   "metadata": {},
   "outputs": [],
   "source": [
    "#Н0 = уровень зарплаты не влияет на увольнение\n",
    "#Н1 = уровень зарплаты влияет на увольнение\n",
    "\n",
    "left_0 = df[df['salary']==0]['left']\n",
    "\n",
    "left_1 = df[df['salary']==1]['left']\n",
    "\n",
    "left_2 = df[df['salary'] == 2]['left']\n",
    "\n",
    "\n",
    "stats.f_oneway(left_0, left_1, left_2)"
   ]
  },
  {
   "cell_type": "code",
   "execution_count": null,
   "metadata": {},
   "outputs": [],
   "source": [
    "#Поскольку pvalue меньше 0.05, мы отвергаем нулевую гипотезу. \n",
    "\n",
    "df[df['salary']==0]['left'].mean()"
   ]
  },
  {
   "cell_type": "code",
   "execution_count": null,
   "metadata": {},
   "outputs": [],
   "source": [
    "df[df['salary']==1]['left'].mean()"
   ]
  },
  {
   "cell_type": "code",
   "execution_count": null,
   "metadata": {},
   "outputs": [],
   "source": [
    "df[df['salary']==2]['left'].mean()"
   ]
  },
  {
   "cell_type": "markdown",
   "metadata": {},
   "source": [
    "Как видно, работники с высокой зарплатой увольняются реже.\n",
    "Если зарплата сотрудника низкая или средняя, он с большей вероятностью покинет компанию."
   ]
  },
  {
   "cell_type": "code",
   "execution_count": null,
   "metadata": {},
   "outputs": [],
   "source": [
    "#Н0 = удовлетворённость не влияет на увольнение\n",
    "#Н1 = удовлетворённость влияет на увольнение\n",
    "\n",
    "work = df[df['left']==0]['satisfaction_level']\n",
    "\n",
    "fired = df[df['left']==1]['satisfaction_level']\n",
    "\n",
    "stats.ttest_ind(work, fired)"
   ]
  },
  {
   "cell_type": "markdown",
   "metadata": {},
   "source": [
    "Так как pvalue 0, а показатель t равен 51.6, мы отвергаем нулевую гипотезу об отсутствии различий в этих двух группах. "
   ]
  },
  {
   "cell_type": "code",
   "execution_count": null,
   "metadata": {},
   "outputs": [],
   "source": [
    "df[df['left']==1]['satisfaction_level'].mean()"
   ]
  },
  {
   "cell_type": "code",
   "execution_count": null,
   "metadata": {},
   "outputs": [],
   "source": [
    "df[df['left']==0]['satisfaction_level'].mean()"
   ]
  },
  {
   "cell_type": "markdown",
   "metadata": {},
   "source": [
    "Сравнение средних говорит о том, что средний уровень удовлетворенности уволившихся был ниже уровня удовлетворенности оставшихся. "
   ]
  }
 ],
 "metadata": {
  "kernelspec": {
   "display_name": "Python 3",
   "language": "python",
   "name": "python3"
  },
  "language_info": {
   "codemirror_mode": {
    "name": "ipython",
    "version": 3
   },
   "file_extension": ".py",
   "mimetype": "text/x-python",
   "name": "python",
   "nbconvert_exporter": "python",
   "pygments_lexer": "ipython3",
   "version": "3.8.2"
  }
 },
 "nbformat": 4,
 "nbformat_minor": 4
}
